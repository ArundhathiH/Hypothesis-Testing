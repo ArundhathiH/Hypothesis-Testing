{
 "cells": [
  {
   "cell_type": "markdown",
   "id": "bd307c00",
   "metadata": {},
   "source": [
    "# Sales of products in four different regions is tabulated for males and females. Find if male-female buyer rations are similar across regions."
   ]
  },
  {
   "cell_type": "markdown",
   "id": "90a33900",
   "metadata": {},
   "source": [
    "### H0: All proportions are equal\n",
    "### Ha: Not all Proportions are equal"
   ]
  },
  {
   "cell_type": "markdown",
   "id": "7d62eb92",
   "metadata": {},
   "source": [
    "# 1. Importing necassary libraries"
   ]
  },
  {
   "cell_type": "code",
   "execution_count": 16,
   "id": "c41d7566",
   "metadata": {},
   "outputs": [],
   "source": [
    "import pandas as pd\n",
    "import numpy as np\n",
    "from scipy.stats import chi2_contingency"
   ]
  },
  {
   "cell_type": "markdown",
   "id": "adbb686c",
   "metadata": {},
   "source": [
    "# 2. Load Data"
   ]
  },
  {
   "cell_type": "code",
   "execution_count": 3,
   "id": "ebf95ef3",
   "metadata": {},
   "outputs": [
    {
     "data": {
      "text/html": [
       "<div>\n",
       "<style scoped>\n",
       "    .dataframe tbody tr th:only-of-type {\n",
       "        vertical-align: middle;\n",
       "    }\n",
       "\n",
       "    .dataframe tbody tr th {\n",
       "        vertical-align: top;\n",
       "    }\n",
       "\n",
       "    .dataframe thead th {\n",
       "        text-align: right;\n",
       "    }\n",
       "</style>\n",
       "<table border=\"1\" class=\"dataframe\">\n",
       "  <thead>\n",
       "    <tr style=\"text-align: right;\">\n",
       "      <th></th>\n",
       "      <th>Observed Values</th>\n",
       "      <th>East</th>\n",
       "      <th>West</th>\n",
       "      <th>North</th>\n",
       "      <th>South</th>\n",
       "    </tr>\n",
       "  </thead>\n",
       "  <tbody>\n",
       "    <tr>\n",
       "      <th>0</th>\n",
       "      <td>Males</td>\n",
       "      <td>50</td>\n",
       "      <td>142</td>\n",
       "      <td>131</td>\n",
       "      <td>70</td>\n",
       "    </tr>\n",
       "    <tr>\n",
       "      <th>1</th>\n",
       "      <td>Females</td>\n",
       "      <td>435</td>\n",
       "      <td>1523</td>\n",
       "      <td>1356</td>\n",
       "      <td>750</td>\n",
       "    </tr>\n",
       "  </tbody>\n",
       "</table>\n",
       "</div>"
      ],
      "text/plain": [
       "  Observed Values  East  West  North  South\n",
       "0           Males    50   142    131     70\n",
       "1         Females   435  1523   1356    750"
      ]
     },
     "execution_count": 3,
     "metadata": {},
     "output_type": "execute_result"
    }
   ],
   "source": [
    "buyers_data=pd.read_csv(r\"D:\\Data Science\\DS Assignments\\Hypothesis Testing\\BuyerRatio.csv\")\n",
    "buyers_data"
   ]
  },
  {
   "cell_type": "markdown",
   "id": "07550061",
   "metadata": {},
   "source": [
    "# 3. Conducting Chi square test\n",
    "### The Pearson’s Chi-Square statistical hypothesis is a test for independence between categorical variables"
   ]
  },
  {
   "cell_type": "markdown",
   "id": "9cf6c2cc",
   "metadata": {},
   "source": [
    "* **If p-value > 0.5 -- accept null hypothesis** \n",
    "* **If p-value < 0.5 -- reject null hypothesis and consider alternate hypothesis**"
   ]
  },
  {
   "cell_type": "code",
   "execution_count": 26,
   "id": "57e05d54",
   "metadata": {},
   "outputs": [
    {
     "data": {
      "text/plain": [
       "(array(['Males', 50, 142, 131, 70], dtype=object),\n",
       " array(['Females', 435, 1523, 1356, 750], dtype=object))"
      ]
     },
     "execution_count": 26,
     "metadata": {},
     "output_type": "execute_result"
    }
   ],
   "source": [
    "m_array=np.array(buyers_data.loc[0])\n",
    "f_array=np.array(buyers_data.loc[1])\n",
    "m_array,f_array"
   ]
  },
  {
   "cell_type": "code",
   "execution_count": 27,
   "id": "84ed304f",
   "metadata": {},
   "outputs": [],
   "source": [
    "observed_data = [[ 50, 142, 131, 70],[435, 1523, 1356, 750]]"
   ]
  },
  {
   "cell_type": "code",
   "execution_count": 28,
   "id": "b1b17c4f",
   "metadata": {},
   "outputs": [
    {
     "name": "stdout",
     "output_type": "stream",
     "text": [
      "P-value is 0.6603094907091882\n"
     ]
    }
   ],
   "source": [
    "chi2,p_val,dof,expected = chi2_contingency(observed_data)\n",
    "#print(chi2)\n",
    "print('P-value is',p_val)\n",
    "#print(dof)\n",
    "#print(expected)"
   ]
  },
  {
   "cell_type": "markdown",
   "id": "be73ff8e",
   "metadata": {},
   "source": [
    "# 4. Analysis and Conclusion"
   ]
  },
  {
   "cell_type": "markdown",
   "id": "0d753a66",
   "metadata": {},
   "source": [
    "## The p-value is greater than 0.05. This implies that all proportions are same and there is no relation between male and female buyers"
   ]
  },
  {
   "cell_type": "markdown",
   "id": "a24e6700",
   "metadata": {},
   "source": [
    "## Hence, Null hypthesis is accepted and Alternate hypothesis is rejected"
   ]
  }
 ],
 "metadata": {
  "kernelspec": {
   "display_name": "Python 3 (ipykernel)",
   "language": "python",
   "name": "python3"
  },
  "language_info": {
   "codemirror_mode": {
    "name": "ipython",
    "version": 3
   },
   "file_extension": ".py",
   "mimetype": "text/x-python",
   "name": "python",
   "nbconvert_exporter": "python",
   "pygments_lexer": "ipython3",
   "version": "3.9.12"
  }
 },
 "nbformat": 4,
 "nbformat_minor": 5
}
