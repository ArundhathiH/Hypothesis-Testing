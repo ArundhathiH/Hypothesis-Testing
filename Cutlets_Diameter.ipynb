{
 "cells": [
  {
   "cell_type": "markdown",
   "id": "1da05f23",
   "metadata": {},
   "source": [
    "# A F&B manager wants to determine whether there is any significant difference in the diameter of the cutlet between two units. A randomly selected sample of cutlets was collected from both units and measured? Analyze the data and draw inferences at 5% significance level. Please state the assumptions and tests that you carried out to check validity of the assumptions.\n"
   ]
  },
  {
   "cell_type": "markdown",
   "id": "75d33336",
   "metadata": {},
   "source": [
    "### H0 : There is no significant difference in the diameter of the cutlet between two units\n",
    "### Ha : There is significant difference in the diameter of the cutlet between two units"
   ]
  },
  {
   "cell_type": "markdown",
   "id": "f4e5032f",
   "metadata": {},
   "source": [
    "# 1. Importing necessary libraries"
   ]
  },
  {
   "cell_type": "code",
   "execution_count": 8,
   "id": "8eca998c",
   "metadata": {},
   "outputs": [],
   "source": [
    "import pandas as pd\n",
    "from scipy import stats"
   ]
  },
  {
   "cell_type": "markdown",
   "id": "b07c86fd",
   "metadata": {},
   "source": [
    "# 2. Load Data"
   ]
  },
  {
   "cell_type": "code",
   "execution_count": 11,
   "id": "950be655",
   "metadata": {},
   "outputs": [
    {
     "data": {
      "text/html": [
       "<div>\n",
       "<style scoped>\n",
       "    .dataframe tbody tr th:only-of-type {\n",
       "        vertical-align: middle;\n",
       "    }\n",
       "\n",
       "    .dataframe tbody tr th {\n",
       "        vertical-align: top;\n",
       "    }\n",
       "\n",
       "    .dataframe thead th {\n",
       "        text-align: right;\n",
       "    }\n",
       "</style>\n",
       "<table border=\"1\" class=\"dataframe\">\n",
       "  <thead>\n",
       "    <tr style=\"text-align: right;\">\n",
       "      <th></th>\n",
       "      <th>Unit A</th>\n",
       "      <th>Unit B</th>\n",
       "    </tr>\n",
       "  </thead>\n",
       "  <tbody>\n",
       "    <tr>\n",
       "      <th>0</th>\n",
       "      <td>6.8090</td>\n",
       "      <td>6.7703</td>\n",
       "    </tr>\n",
       "    <tr>\n",
       "      <th>1</th>\n",
       "      <td>6.4376</td>\n",
       "      <td>7.5093</td>\n",
       "    </tr>\n",
       "    <tr>\n",
       "      <th>2</th>\n",
       "      <td>6.9157</td>\n",
       "      <td>6.7300</td>\n",
       "    </tr>\n",
       "    <tr>\n",
       "      <th>3</th>\n",
       "      <td>7.3012</td>\n",
       "      <td>6.7878</td>\n",
       "    </tr>\n",
       "    <tr>\n",
       "      <th>4</th>\n",
       "      <td>7.4488</td>\n",
       "      <td>7.1522</td>\n",
       "    </tr>\n",
       "  </tbody>\n",
       "</table>\n",
       "</div>"
      ],
      "text/plain": [
       "   Unit A  Unit B\n",
       "0  6.8090  6.7703\n",
       "1  6.4376  7.5093\n",
       "2  6.9157  6.7300\n",
       "3  7.3012  6.7878\n",
       "4  7.4488  7.1522"
      ]
     },
     "execution_count": 11,
     "metadata": {},
     "output_type": "execute_result"
    }
   ],
   "source": [
    "cutlet_data = pd.read_csv(r\"D:\\Data Science\\DS Assignments\\Hypothesis Testing\\Cutlets.csv\")\n",
    "cutlet_data.head()"
   ]
  },
  {
   "cell_type": "markdown",
   "id": "557b3fcc",
   "metadata": {},
   "source": [
    "# 3. Conducting 2 Sample T-test for Unit A and Unit B\n",
    "### It allows one to test the null hypothesis that the means of two groups are equal"
   ]
  },
  {
   "cell_type": "markdown",
   "id": "cf8a2925",
   "metadata": {},
   "source": [
    "* **If p-value > 0.5 -- accept null hypothesis** \n",
    "* **If p-value < 0.5 -- reject null hypothesis and consider alternate hypothesis**"
   ]
  },
  {
   "cell_type": "code",
   "execution_count": 12,
   "id": "e6f66316",
   "metadata": {},
   "outputs": [
    {
     "data": {
      "text/plain": [
       "Ttest_relResult(statistic=0.7536787225614314, pvalue=0.4562300768038412)"
      ]
     },
     "execution_count": 12,
     "metadata": {},
     "output_type": "execute_result"
    }
   ],
   "source": [
    "stats.ttest_rel(cutlet_data['Unit A'],cutlet_data['Unit B'])"
   ]
  },
  {
   "cell_type": "code",
   "execution_count": 13,
   "id": "2cf2194c",
   "metadata": {},
   "outputs": [
    {
     "data": {
      "text/plain": [
       "Ttest_indResult(statistic=0.7228688704678063, pvalue=0.4722394724599501)"
      ]
     },
     "execution_count": 13,
     "metadata": {},
     "output_type": "execute_result"
    }
   ],
   "source": [
    "stats.ttest_ind(cutlet_data['Unit A'],cutlet_data['Unit B'])"
   ]
  },
  {
   "cell_type": "markdown",
   "id": "7a105643",
   "metadata": {},
   "source": [
    "# 4. Analysis and Conclusion"
   ]
  },
  {
   "cell_type": "markdown",
   "id": "bc9b8fd8",
   "metadata": {},
   "source": [
    "### P-value is > 0.05. Hence, null hypothesis is accepted and alternate hypothesis is rejected.\n",
    "* We can say that there is similarity between Unit A and Unit B"
   ]
  }
 ],
 "metadata": {
  "kernelspec": {
   "display_name": "Python 3 (ipykernel)",
   "language": "python",
   "name": "python3"
  },
  "language_info": {
   "codemirror_mode": {
    "name": "ipython",
    "version": 3
   },
   "file_extension": ".py",
   "mimetype": "text/x-python",
   "name": "python",
   "nbconvert_exporter": "python",
   "pygments_lexer": "ipython3",
   "version": "3.9.12"
  }
 },
 "nbformat": 4,
 "nbformat_minor": 5
}
